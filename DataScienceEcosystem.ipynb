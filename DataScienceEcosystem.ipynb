{
 "cells": [
  {
   "cell_type": "markdown",
   "id": "db67a0f3-b066-4ee5-9ece-fdc5eb716a9a",
   "metadata": {},
   "source": [
    "# Data Science Tools and Ecosystem"
   ]
  },
  {
   "cell_type": "markdown",
   "id": "5f7c8506-246f-4af0-bfb0-3db147ceefb7",
   "metadata": {},
   "source": [
    "### In this notebook, Data Science Tools and Ecosystem are summarized."
   ]
  },
  {
   "cell_type": "markdown",
   "id": "fff2e05e-747d-4179-af77-25aac2669ac6",
   "metadata": {},
   "source": [
    "### Some of the popular languages that Data Scientists use are:\n",
    "1. Python\n",
    "2. R\n",
    "3. SQL"
   ]
  },
  {
   "cell_type": "markdown",
   "id": "86132048-b155-49ac-adf7-e0bc0888c10a",
   "metadata": {},
   "source": [
    "### Data Science Tools"
   ]
  },
  {
   "cell_type": "markdown",
   "id": "2dc9c4c5-7e89-4239-ba7f-19b36554171e",
   "metadata": {},
   "source": [
    "| Data Science Tools |\n",
    "|--------------------|\n",
    "|Jupyter Notebook|\n",
    "|Jupyter Lab|\n",
    "|PyCharm|\n",
    "|RStudio|"
   ]
  },
  {
   "cell_type": "markdown",
   "id": "1928cbaa-6073-414d-9d49-bdc2ea5779f3",
   "metadata": {},
   "source": [
    "### Below are a few examples of evaluating arithmetic expression in python:\n",
    "\n",
    "- \"+\"\n",
    "- \"-\"\n",
    "- \"*\"\n",
    "- \"/\"\n",
    "- \"**\"\n"
   ]
  },
  {
   "cell_type": "code",
   "execution_count": 15,
   "id": "fe5a4c81-e836-43a9-bcda-80a2b620818c",
   "metadata": {},
   "outputs": [
    {
     "data": {
      "text/plain": [
       "17"
      ]
     },
     "execution_count": 15,
     "metadata": {},
     "output_type": "execute_result"
    }
   ],
   "source": [
    "#This is a simple arithmetic expression to multiply then add intergers\n",
    "(3*4)+5"
   ]
  },
  {
   "cell_type": "code",
   "execution_count": 17,
   "id": "1d3c29f8-0017-495a-a517-c19dfea1fcec",
   "metadata": {},
   "outputs": [
    {
     "data": {
      "text/plain": [
       "3.3333333333333335"
      ]
     },
     "execution_count": 17,
     "metadata": {},
     "output_type": "execute_result"
    }
   ],
   "source": [
    "#This will convert 200 minutes to hours by diving by 60\n",
    "200/60"
   ]
  },
  {
   "cell_type": "code",
   "execution_count": null,
   "id": "b4c3b00b-3d45-4851-9bbb-755a3aeaaaec",
   "metadata": {},
   "outputs": [],
   "source": [
    "List popular languages for Data Science:\n",
    "\n",
    "- Python\n",
    "- R\n",
    "- SQL                  "
   ]
  },
  {
   "cell_type": "markdown",
   "id": "6e1448fd-5ce0-441c-b0a1-686e12bbb3be",
   "metadata": {},
   "source": [
    "## Author: Andrew D. Dean"
   ]
  },
  {
   "cell_type": "code",
   "execution_count": null,
   "id": "d5db1acc-2f3e-4e55-a82f-979c3dbcebed",
   "metadata": {},
   "outputs": [],
   "source": []
  },
  {
   "cell_type": "code",
   "execution_count": null,
   "id": "f4f23ec8-f11a-45c3-8a30-ac4da88ca747",
   "metadata": {},
   "outputs": [],
   "source": []
  }
 ],
 "metadata": {
  "kernelspec": {
   "display_name": "Python 3 (ipykernel)",
   "language": "python",
   "name": "python3"
  },
  "language_info": {
   "codemirror_mode": {
    "name": "ipython",
    "version": 3
   },
   "file_extension": ".py",
   "mimetype": "text/x-python",
   "name": "python",
   "nbconvert_exporter": "python",
   "pygments_lexer": "ipython3",
   "version": "3.12.4"
  }
 },
 "nbformat": 4,
 "nbformat_minor": 5
}
